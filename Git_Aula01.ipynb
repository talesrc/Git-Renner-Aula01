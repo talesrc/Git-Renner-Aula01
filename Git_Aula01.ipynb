{
  "nbformat": 4,
  "nbformat_minor": 0,
  "metadata": {
    "colab": {
      "name": "Git-Aula01.ipynb",
      "provenance": [],
      "authorship_tag": "ABX9TyMfewVtoWBvPpL0tKKzy+VT",
      "include_colab_link": true
    },
    "kernelspec": {
      "name": "python3",
      "display_name": "Python 3"
    },
    "language_info": {
      "name": "python"
    }
  },
  "cells": [
    {
      "cell_type": "markdown",
      "metadata": {
        "id": "view-in-github",
        "colab_type": "text"
      },
      "source": [
        "<a href=\"https://colab.research.google.com/github/talesrc/Git-Renner-Aula01/blob/main/Git_Aula01.ipynb\" target=\"_parent\"><img src=\"https://colab.research.google.com/assets/colab-badge.svg\" alt=\"Open In Colab\"/></a>"
      ]
    },
    {
      "cell_type": "code",
      "execution_count": 6,
      "metadata": {
        "colab": {
          "base_uri": "https://localhost:8080/"
        },
        "id": "0cDt5D9dsZXs",
        "outputId": "2c29d0a2-b61c-4ac3-95c8-c5a3da271a01"
      },
      "outputs": [
        {
          "output_type": "execute_result",
          "data": {
            "text/plain": [
              "[1, 2, 3, 4, 5]"
            ]
          },
          "metadata": {},
          "execution_count": 6
        }
      ],
      "source": [
        "lista = [1, 2, 3, 4, 5]\n",
        "lista"
      ]
    },
    {
      "cell_type": "code",
      "source": [
        "lista.append(5)\n",
        "lista"
      ],
      "metadata": {
        "colab": {
          "base_uri": "https://localhost:8080/"
        },
        "id": "bYgfEMOfs0_j",
        "outputId": "867aca05-c5da-4cd8-a0cc-fcff5303f308"
      },
      "execution_count": 7,
      "outputs": [
        {
          "output_type": "execute_result",
          "data": {
            "text/plain": [
              "[1, 2, 3, 4, 5, 5]"
            ]
          },
          "metadata": {},
          "execution_count": 7
        }
      ]
    },
    {
      "cell_type": "code",
      "source": [
        "for number in lista:\n",
        "  print(number)"
      ],
      "metadata": {
        "colab": {
          "base_uri": "https://localhost:8080/"
        },
        "id": "ZTUYrSQus56U",
        "outputId": "3fc549b9-b9ba-488a-eba5-325c3acd67e3"
      },
      "execution_count": 8,
      "outputs": [
        {
          "output_type": "stream",
          "name": "stdout",
          "text": [
            "1\n",
            "2\n",
            "3\n",
            "4\n",
            "5\n",
            "5\n"
          ]
        }
      ]
    }
  ]
}